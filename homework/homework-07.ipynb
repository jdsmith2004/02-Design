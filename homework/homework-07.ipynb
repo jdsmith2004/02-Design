{
  "cells": [
    {
      "cell_type": "markdown",
      "metadata": {
        "id": "_Mr3AvSgSswx"
      },
      "source": [
        "# Homework 07 - Trees"
      ]
    },
    {
      "cell_type": "markdown",
      "metadata": {
        "id": "w1t0weuGbbhA"
      },
      "source": [
        "**Instructions:** Complete the exercises below.\n",
        "\n",
        "1. Make a copy of this Colab Notebook using **`File -> Save a copy in Drive`**.\n",
        "\n",
        "2. Answer the exercise questions below. Type your answers to each question by double-clicking on **`Your Answer`** and typing your response.\n",
        "\n",
        "    Note that you can use any combination of plain text, Markdown, or LaTeX. As a last resort, you can simply take a picture of your handwritten work and upload it to an answer cell below.\n",
        "\n",
        "3. To submit your work, turn in the URL for your Colab notebook by clicking \"Share\" then \"Copy Link\"."
      ]
    },
    {
      "cell_type": "markdown",
      "metadata": {
        "id": "bEsUKV6DbbhB"
      },
      "source": [
        "**Note**:\n",
        "Sample solutions are provided in order to help you **learn**. The purpose of these exercises is not to simply turn in the answers, but to take the time and effort to learn and understand the material. You are encouraged to work the problems first, then when you are satisfied that you have the correct answer, look at the sample solution and compare it with yours."
      ]
    },
    {
      "cell_type": "markdown",
      "metadata": {
        "id": "DJwjN3A1RfzQ"
      },
      "source": [
        "As you complete the problems below, you may use Python whenever you can think of a way it could help you answer the question.\n",
        "\n",
        "### Notes about drawing\n",
        "\n",
        "Some of the problems will require you to draw a graph or tree. You may\n",
        "\n",
        "1. (Preferred) Use a Python tool such as `Graphviz`. See the source code of the graphs shown in the questions for examples of how to use `Graphviz`.\n",
        "\n",
        "    For addition help with `Graphviz`, see [A Quick Introduction to Graphviz](https://www.worthe-it.co.za/blog/2017-09-19-quick-introduction-to-graphviz.html) and the [Graphviz Documentation](https://graphviz.org/documentation/), especially the [Attributes](https://graphviz.org/doc/info/attrs.html) page.\n",
        "\n",
        "    or\n",
        "    \n",
        "2. Draw them by hand and take a picture. To easily include a picture in Colab, open a **text** cell and use the \"Insert Image\" button or copy/paste a picture into the cell. Colab will automatically convert it to Base-64 encoding. Type \"ESC\" to close the cell and you'll see the picture.\n"
      ]
    },
    {
      "cell_type": "markdown",
      "metadata": {
        "id": "05emUmQd9Van"
      },
      "source": [
        "### Exercise 7.1"
      ]
    },
    {
      "cell_type": "markdown",
      "metadata": {
        "id": "mqgK3Y8y_5qp"
      },
      "source": [
        "How many different (non-isomorphic) unrooted trees are there with 6 vertices? Draw them to figure it out. (You may draw them by hand or use Python)."
      ]
    },
    {
      "cell_type": "markdown",
      "metadata": {
        "id": "NLgbZpYERfzS"
      },
      "source": [
        "#### Hint"
      ]
    },
    {
      "cell_type": "markdown",
      "metadata": {
        "id": "mKwSPtLXRfzT"
      },
      "source": [
        "Here's an example of how to draw a tree using `graphviz`. Note the use of \"layout=dot\" instead of \"layout=neato\". This results in a better visual representation of the tree."
      ]
    },
    {
      "cell_type": "code",
      "execution_count": null,
      "metadata": {
        "id": "lHBTNdOKRfzU",
        "outputId": "aa4c93ca-8705-4f4a-ad22-e4ed559550ec"
      },
      "outputs": [
        {
          "data": {
            "image/png": "[encoded data removed]",
            "text/plain": [
              "<IPython.core.display.Image object>"
            ]
          },
          "metadata": {},
          "output_type": "display_data"
        }
      ],
      "source": [
        "my_tree = '''\n",
        "graph tree {\n",
        "  layout=dot; # use dot instead of neato for trees\n",
        "  node [shape=circle; fixedsize=true; width=0.30]; # specifies the node size/shape\n",
        "  a--b;\n",
        "  a--g;\n",
        "  b--c;\n",
        "  b--e;\n",
        "  c--d;\n",
        "  e--f;\n",
        "}'''\n",
        "from graphviz import Source\n",
        "from IPython.display import Image, display\n",
        "display(Image(Source(my_tree, format='png').render()))"
      ]
    },
    {
      "cell_type": "markdown",
      "metadata": {
        "id": "xksIOSngRfzW"
      },
      "source": [
        "#### Your Answer:\n",
        "\n",
        "There are 6 total trees"
      ]
    },
    {
      "cell_type": "markdown",
      "metadata": {
        "id": "lXSjEGQD_wC0"
      },
      "source": [
        "### Exercise 7.2"
      ]
    },
    {
      "cell_type": "markdown",
      "metadata": {
        "id": "icVOJ-56_x2K"
      },
      "source": [
        "A convenient way to visualize an algebraic expression is by its expression tree. Consider the expression\n",
        "\n",
        "$X = a*b-c/d+e$\n",
        "\n",
        "Since we normally put a precedence on multiplication/divisions, $X$ is evaluated as $((a*b) - (c/d) + e)$. Consecutive multiplication/divisions or addition/subtractions are evaluated from left to right.\n",
        "\n",
        "We can break $X$ down into the sum of two simpler expressions $(a*b) - (c/d)$ and $e$.\n",
        "\n",
        "The first of these expressions can be broken down further into the difference of the expressions $a*b$ and $c/d$.\n",
        "\n",
        "If we decompose an expression into $\\texttt{(left expression) operation (right expression)}$, we can represent the expression as a binary tree whose root contains the operation and whose left and right subtrees are the trees of the left and right expressions, respectively. A simple variable or a number has an expression tree that is a single vertex containing the variable or number.\n",
        "\n",
        "The evolution of the expression tree for expression $X$ is:"
      ]
    },
    {
      "cell_type": "markdown",
      "metadata": {
        "id": "BNgKhxR7RfzX"
      },
      "source": [
        "![image.png](data:image/png;base64,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)"
      ]
    },
    {
      "cell_type": "markdown",
      "metadata": {
        "id": "QMD7OtgKRfzY"
      },
      "source": [
        "Draw the expression trees for the following expressions. You may draw them by hand and upload a picture or draw them using Python or ASCII art. If using `graphviz` use `\"*\"` and `\"* \"` to display labels on vertices and distinguish them.\n",
        "\n",
        "1. $a(b+c)$\n",
        "\n",
        "2. $ab + c$\n",
        "\n",
        "3. $ab + ac$\n",
        "\n",
        "4. $bb-4ac$\n",
        "\n",
        "5. $a^2 + b^2$"
      ]
    },
    {
      "cell_type": "markdown",
      "metadata": {
        "id": "-Emzo8W-RfzY"
      },
      "source": [
        "Question adapted from [Applied Discrete Structures](https://discretemath.org/) by Alan Doerr & Kenneth Levasseur which is licensed under a [Creative Commons Attribution-NonCommercial-ShareAlike 3.0 United States License](http://creativecommons.org/licenses/by-nc-sa/3.0/us/)."
      ]
    },
    {
      "cell_type": "markdown",
      "metadata": {
        "id": "T0aJa6hyRfzY"
      },
      "source": [
        "#### Your Answer:"
      ]
    },
    {
      "cell_type": "code",
      "source": [
        "tree1 = '''\n",
        "graph tree {\n",
        "    layout=dot\n",
        "    node [shape=circle]\n",
        "    \"*\"--a;\n",
        "    \"*\"--\"+\";\n",
        "    \"+\"--b;\n",
        "    \"+\"--c;\n",
        "\n",
        "}'''\n",
        "from graphviz import Source\n",
        "from IPython.display import Image, display\n",
        "display(Image(Source(tree1, format='png').render()))"
      ],
      "metadata": {
        "id": "PDMdfTSxTL4f"
      },
      "execution_count": null,
      "outputs": []
    },
    {
      "cell_type": "code",
      "source": [
        "tree2 = '''\n",
        "graph tree {\n",
        "    layout=dot\n",
        "    node [shape=circle]\n",
        "    \"+\"--\"*\";\n",
        "    \"*\"--a;\n",
        "    \"*\"--b;\n",
        "    \"+\"--c;\n",
        "\n",
        "}'''\n",
        "display(Image(Source(tree2, format='png').render()))"
      ],
      "metadata": {
        "id": "xtofeOU6TLvI"
      },
      "execution_count": null,
      "outputs": []
    },
    {
      "cell_type": "code",
      "source": [
        "tree3 = '''\n",
        "graph tree {\n",
        "    layout=dot\n",
        "    node [shape=circle]\n",
        "    \"+\"--\"* \";\n",
        "    \"+\"--\"*\";\n",
        "    \"* \"--a;\n",
        "    \"* \"--b;\n",
        "    \"*\"--\"a \";\n",
        "    \"*\"--c;\n",
        "\n",
        "}'''\n",
        "display(Image(Source(tree3, format='png').render()))"
      ],
      "metadata": {
        "id": "-FcW866gTLjE"
      },
      "execution_count": null,
      "outputs": []
    },
    {
      "cell_type": "code",
      "source": [
        "tree4 = '''\n",
        "graph tree {\n",
        "  layout=dot\n",
        "  node [shape=circle]\n",
        "  \"-\"--\"*\";\n",
        "  \"-\"--\"* \";\n",
        "  \"*\"--\"b\";\n",
        "  \"*\"--\"b \";\n",
        "  \"* \"--\" *\";\n",
        "  \"* \"--c;\n",
        "  \" *\"--4;\n",
        "  \" *\"--a;\n",
        "}'''\n",
        "\n",
        "display(Image(Source(tree4, format='png').render()))"
      ],
      "metadata": {
        "id": "btviGLMDTLRj"
      },
      "execution_count": null,
      "outputs": []
    },
    {
      "cell_type": "code",
      "source": [
        "tree5 = '''\n",
        "graph tree {\n",
        "  layout=dot\n",
        "  node [shape=circle]\n",
        "  \"+\"--\"*\";\n",
        "  \"*\"--a;\n",
        "  \"*\"--\"a \";\n",
        "  \"+\"--\"* \";\n",
        "  \"* \"--b;\n",
        "  \"* \"--\"b \";\n",
        "}'''\n",
        "\n",
        "display(Image(Source(tree5, format='png').render()))"
      ],
      "metadata": {
        "id": "XKv7dVFBTTUj"
      },
      "execution_count": null,
      "outputs": []
    },
    {
      "cell_type": "markdown",
      "metadata": {
        "id": "twz7SYA5DByA"
      },
      "source": [
        "### Exercise 7.3\n"
      ]
    },
    {
      "cell_type": "markdown",
      "metadata": {
        "id": "xcS0O69sRfzZ"
      },
      "source": [
        "One way to represent a tree is by using nested lists. For example, this tree:\n",
        "\n",
        "`['a', ['b', ['c', 'd', 'e'], 'f'], ['g', 'h', 'i']]`\n",
        "\n",
        "would be drawn as:\n",
        "\n",
        "```\n",
        "        a\n",
        "      /   \\\n",
        "    b       g\n",
        "   / \\     / \\\n",
        "  c   f   h   i\n",
        " / \\\n",
        "d   e\n",
        "```\n",
        "\n",
        "Draw the expression tree representing the following expression, then evaluate it by hand.\n",
        "\n",
        "`['-', ['*', 13, ['+', ['/', 32, -4], 12]], ['*', ['+', ['-', 10, 1], 3], 4]]`"
      ]
    },
    {
      "cell_type": "markdown",
      "metadata": {
        "id": "dQiJdslVRfzZ"
      },
      "source": [
        "#### Your Answer:\n",
        "\n",
        "4 is the answer"
      ]
    },
    {
      "cell_type": "markdown",
      "metadata": {
        "id": "zRSWtA5skP6O"
      },
      "source": [
        "### Exercise 7.4\n"
      ]
    },
    {
      "cell_type": "markdown",
      "metadata": {
        "id": "4HJhG0_8RfzZ"
      },
      "source": [
        "Write a Python function to evaluate the following expression tree. Make sure you get the same answer as in the previous exercise.\n",
        "\n",
        "Hint: The Python `isinstance` function may help you"
      ]
    },
    {
      "cell_type": "code",
      "execution_count": null,
      "metadata": {
        "id": "GdKq13afRfza"
      },
      "outputs": [],
      "source": [
        "et = ['-', ['*', 13, ['+', ['/', 32, -4], 12]], ['*', ['+', ['-', 10, 1], 3], 4]]"
      ]
    },
    {
      "cell_type": "markdown",
      "metadata": {
        "id": "UAkDTSwCRfza"
      },
      "source": [
        "#### Your Answer:"
      ]
    },
    {
      "cell_type": "code",
      "source": [
        "tree = ['-',['*',13,['+',['/',32,-4],12]],['*',['+',['-',10,1],3],4]]\n",
        "\n",
        "def evaluate_tree(t):\n",
        "    if isinstance(t, int):\n",
        "        return t\n",
        "    elif t[0]==\"-\":\n",
        "        return evaluate_tree(t[1]) - evaluate_tree(t[2])\n",
        "    elif t[0] == \"+\":\n",
        "        return evaluate_tree(t[1]) + evaluate_tree(t[2])\n",
        "    elif t[0] == \"*\":\n",
        "        return evaluate_tree(t[1]) * evaluate_tree(t[2])\n",
        "    elif t[0] == \"/\":\n",
        "        return evaluate_tree(t[1]) // evaluate_tree(t[2])\n",
        "\n",
        "evaluate_tree(tree)"
      ],
      "metadata": {
        "id": "3v7k6KzoTr1h",
        "outputId": "725658ec-5878-4e96-bcc7-37dfe7ff37dc",
        "colab": {
          "base_uri": "https://localhost:8080/"
        }
      },
      "execution_count": 1,
      "outputs": [
        {
          "output_type": "execute_result",
          "data": {
            "text/plain": [
              "4"
            ]
          },
          "metadata": {},
          "execution_count": 1
        }
      ]
    },
    {
      "cell_type": "markdown",
      "metadata": {
        "id": "kKNsvKfcRfza"
      },
      "source": [
        "### Exercise 7.5"
      ]
    },
    {
      "cell_type": "markdown",
      "metadata": {
        "id": "X_ePJTDTRfza"
      },
      "source": [
        "Use the following tree for prefix codes.\n",
        "\n",
        "![image.png](data:image/png;base64,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)"
      ]
    },
    {
      "cell_type": "markdown",
      "metadata": {
        "id": "ZHDWfOTGRfzb"
      },
      "source": [
        "1. Use the tree to encode \"apple\"\n",
        "2. Use the tree to encode \"grapefruit\"\n",
        "3. Use the tree to decode \"111100001010010100\"\n",
        "4. Use the tree to decode \"1001110100101010011\"\n"
      ]
    },
    {
      "cell_type": "markdown",
      "metadata": {
        "id": "eVwGEgZxRfzc"
      },
      "source": [
        "#### Your Answer:\n",
        "1. 001000100011100011\n",
        "2. 01011010010000111111101101111111111011100\n",
        "3. banana\n",
        "4. orange"
      ]
    },
    {
      "cell_type": "markdown",
      "metadata": {
        "id": "2KK1L0yNRfzc"
      },
      "source": [
        "### Exercise 7.6\n"
      ]
    },
    {
      "cell_type": "markdown",
      "metadata": {
        "id": "SSLkmj2iRfzc"
      },
      "source": [
        "Using the below table of prefix codes, store them in a Python dictionary, then use Python to encode this message:\n",
        "\n",
        "\"discrete math is fun\"\n",
        "\n",
        "As a challenge, try to use `map` to complete this exercise.\n",
        "\n",
        "|Letter|Code|\n",
        "|---|---|\n",
        "|space|110|\n",
        "|a|0111|\n",
        "|b|1011100|\n",
        "|c|10110|\n",
        "|d|0000|\n",
        "|e|1111|\n",
        "|f|1011101|\n",
        "|g|0110110|\n",
        "|h|01101011|\n",
        "|i|001|\n",
        "|j|011010100|\n",
        "|k|011010101|\n",
        "|l|0001|\n",
        "|m|11100|\n",
        "|n|0101|\n",
        "|o|1000|\n",
        "|p|01100|\n",
        "|q|1011111|\n",
        "|r|0100|\n",
        "|s|11101|\n",
        "|t|1010|\n",
        "|u|1001|\n",
        "|v|0110111|\n",
        "|w|011010010|\n",
        "|x|1011110|\n",
        "|y|011010011|\n",
        "|z|01101000|"
      ]
    },
    {
      "cell_type": "markdown",
      "metadata": {
        "id": "qEQdIUlLRfzc"
      },
      "source": [
        "#### Your Answer:"
      ]
    },
    {
      "cell_type": "code",
      "source": [
        "values = {'d': '0000', 'l': '0001', 'i': '001', 'r': '0100', 'n': '0101', 'p': '01100', 'z': '01101000', 'w': '011010010', 'y': '011010011', 'j': '011010100', 'k': '011010101', 'h': '01101011', 'g': '0110110',\n",
        "     'v': '0110111', 'a': '0111', 'o': '1000', 'u': '1001', 't': '1010', 'c': '10110', 'b': '1011100', 'f': '1011101', 'x': '1011110', 'q': '1011111', ' ': '110', 'm': '11100', 's': '11101', 'e': '1111'}\n",
        "\n",
        "mes = 'discrete math is fun'\n",
        "\n",
        "def encode(mes):\n",
        "    return ''.join(map(lambda x: values[x], mes))\n",
        "\n",
        "print(encode(mes))"
      ],
      "metadata": {
        "id": "vPNYmhy7UD63",
        "outputId": "c281a2f7-fe4b-4851-8edb-b03e8382206e",
        "colab": {
          "base_uri": "https://localhost:8080/"
        }
      },
      "execution_count": 2,
      "outputs": [
        {
          "output_type": "stream",
          "name": "stdout",
          "text": [
            "00000011110110110010011111010111111011100011110100110101111000111101110101110110010101\n"
          ]
        }
      ]
    },
    {
      "cell_type": "markdown",
      "metadata": {
        "id": "k18P8BtXRfzc"
      },
      "source": [
        "### Exercise 7.7\n"
      ]
    },
    {
      "cell_type": "markdown",
      "metadata": {
        "id": "GW_2gSOVRfzc"
      },
      "source": [
        "Using the same table as the previous exercise, use Python to decode this message:\n",
        "\n",
        "0110001001111101110100110111101101011010000000111111101110011101001111110101110110010101\n",
        "\n",
        "Hint: Try creating a reversed dictionary in which the keys are the prefix codes and the values are the letters."
      ]
    },
    {
      "cell_type": "markdown",
      "metadata": {
        "id": "DHUIuqqlRfzd"
      },
      "source": [
        "#### Your Answer:"
      ]
    },
    {
      "cell_type": "code",
      "source": [
        "d = {'d': '0000', 'l': '0001', 'i': '001', 'r': '0100', 'n': '0101', 'p': '01100', 'z': '01101000', 'w': '011010010', 'y': '011010011', 'j': '011010100', 'k': '011010101', 'h': '01101011', 'g': '0110110',\n",
        "     'v': '0110111', 'a': '0111', 'o': '1000', 'u': '1001', 't': '1010', 'c': '10110', 'b': '1011100', 'f': '1011101', 'x': '1011110', 'q': '1011111', ' ': '110', 'm': '11100', 's': '11101', 'e': '1111'}\n",
        "\n",
        "rev_d = dict([(value, key) for key, value in d.items()])\n",
        "encoded_message = '0110001001111101110100110111101101011010000000111111101110011101001111110101110110010101'\n",
        "\n",
        "def decode(string):\n",
        "    result = ''\n",
        "    bits = ''\n",
        "    while len(string) > 0:\n",
        "        bits += string[:1]\n",
        "        string = string[1:]\n",
        "        if rev_d.get(bits):\n",
        "            result += rev_d.get(bits)\n",
        "            bits = ''\n",
        "    return result\n",
        "\n",
        "print()\n",
        "print(f'Decoded message: {decode(encoded_message)}')"
      ],
      "metadata": {
        "id": "uVuKbvB-UY_w",
        "outputId": "6dd94245-cc0f-4ab8-f837-378ef655d4e4",
        "colab": {
          "base_uri": "https://localhost:8080/"
        }
      },
      "execution_count": 3,
      "outputs": [
        {
          "output_type": "stream",
          "name": "stdout",
          "text": [
            "\n",
            "Decoded message: prefix codes are fun\n"
          ]
        }
      ]
    },
    {
      "cell_type": "markdown",
      "metadata": {
        "id": "-r9l5oDdRfzd"
      },
      "source": [
        "### Exercise 7.8\n"
      ]
    },
    {
      "cell_type": "markdown",
      "metadata": {
        "id": "C5Q0GeJgRfzd"
      },
      "source": [
        "1. Assuming a text file uses 8 bits to store each letter, how many bits will it take to store the word \"mississippi\"?\n",
        "\n",
        "2. If we know that only the letters m, i, s, and p will be used in a text file, we can use the following tree for a prefix code. How many bits will it take to encode the word \"mississippi\" using this prefix code?\n",
        "\n",
        "3. What is the average number of bits per letter using this prefix code?\n",
        "\n",
        "4. What is the compression ratio for using this prefix code versus using a fixed encoding of 8 bits per letter?\n",
        "\n",
        "   (Hint: Compression ratio is calculated using the formula $\\frac{f-v}{f}*100$ where $f$ is the number of bits for fixed encoding and $v$ is the number of bits for variable length encoding.)"
      ]
    },
    {
      "cell_type": "code",
      "execution_count": null,
      "metadata": {
        "id": "fhvKHJZnRfzd",
        "outputId": "37d16fb8-db1c-4d2d-a6f3-f3c0590969b4"
      },
      "outputs": [
        {
          "data": {
            "image/png": "[encoded data removed]",
            "text/plain": [
              "<IPython.core.display.Image object>"
            ]
          },
          "metadata": {},
          "output_type": "display_data"
        }
      ],
      "source": [
        "#@title Code used to draw this tree {display-mode: \"form\"}\n",
        "dot = '''\n",
        "graph tree {\n",
        "    layout=dot;\n",
        "    node [shape=circle];\n",
        "    S;\n",
        "    0, 1, 2 [label=\"\"];\n",
        "    0--S [label=0];\n",
        "    0--1 [label=1];\n",
        "    1--2 [label=0];\n",
        "    1--I [label=1];\n",
        "    2--M [label=0];\n",
        "    2--P [label=1];\n",
        "  }\n",
        "'''\n",
        "from graphviz import Source\n",
        "from IPython.display import Image, display\n",
        "display(Image(Source(dot, format='png').render()))"
      ]
    },
    {
      "cell_type": "markdown",
      "metadata": {
        "id": "1vdOPjVPRfze"
      },
      "source": [
        "#### Your Answer:"
      ]
    },
    {
      "cell_type": "code",
      "source": [
        "word = \"mississippi\"\n",
        "\n",
        "print(f'1. {8*len(word)}')\n",
        "\n",
        "total = 1*word.count('s') + 2*word.count('i') + 3*word.count('m') + 3*word.count('p')\n",
        "print(f'2. {total}')\n",
        "\n",
        "print(f'3. {total/len(word)} bits per letter')\n",
        "\n",
        "f = 8\n",
        "v = total/len(word)\n",
        "print(f'4. {100*(f-v)/f:.2f}%')"
      ],
      "metadata": {
        "id": "hc8iZu8rUvBt",
        "outputId": "d46ce604-243d-4b4e-8cd8-543c14e0a92f",
        "colab": {
          "base_uri": "https://localhost:8080/"
        }
      },
      "execution_count": 4,
      "outputs": [
        {
          "output_type": "stream",
          "name": "stdout",
          "text": [
            "1. 88\n",
            "2. 21\n",
            "3. 1.9090909090909092 bits per letter\n",
            "4. 76.14%\n"
          ]
        }
      ]
    },
    {
      "cell_type": "markdown",
      "metadata": {
        "id": "YYy-kEdVRfze"
      },
      "source": [
        "### Exercise 7.9"
      ]
    },
    {
      "cell_type": "markdown",
      "metadata": {
        "id": "hVYzOOV8Rfze"
      },
      "source": [
        "Give the order in which the vertices of the following tree are visited in\n",
        "\n",
        "1. Pre-order traversal\n",
        "2. Post-order traversal\n"
      ]
    },
    {
      "cell_type": "code",
      "execution_count": null,
      "metadata": {
        "id": "TfAiej6CRfzl",
        "outputId": "c06676d8-136d-47ca-99b8-1c75f27ca15c"
      },
      "outputs": [
        {
          "data": {
            "image/png": "[encoded data removed]",
            "text/plain": [
              "<IPython.core.display.Image object>"
            ]
          },
          "metadata": {},
          "output_type": "display_data"
        }
      ],
      "source": [
        "#@title Source Code to Draw the Tree {display-mode: \"form\"}\n",
        "my_tree = '''\n",
        "graph tree {\n",
        "  layout=dot\n",
        "  node [shape=circle]\n",
        "  a--b--c--d;\n",
        "  c--e;\n",
        "  b--f--g;\n",
        "  f--h;\n",
        "  a--i--j;\n",
        "  i--k--l;\n",
        "  k--m--n;\n",
        "  m--o;\n",
        "}'''\n",
        "from graphviz import Source\n",
        "from IPython.display import Image, display\n",
        "display(Image(Source(my_tree, format='png').render()))"
      ]
    },
    {
      "cell_type": "markdown",
      "metadata": {
        "id": "NMUnEgWcRfzl"
      },
      "source": [
        "#### Your Answer:\n",
        "1. Pre-order: a b c d e f g h i j k l m n o\n",
        "2. Post-order: d e c g h f b j l n o m k i a"
      ]
    },
    {
      "cell_type": "markdown",
      "metadata": {
        "id": "lWinXQsARfzl"
      },
      "source": [
        "### Exercise 7.10"
      ]
    },
    {
      "cell_type": "markdown",
      "metadata": {
        "id": "vne2GcanRfzm"
      },
      "source": [
        "The tree from the previous exercise is represented here using nested lists. This binary tree is represented as a list in which the first element is the root node, the second element is the left sub-tree, and the third element is the right sub-tree.\n",
        "\n",
        "`tree = ['a', ['b', ['c', ['d'], ['e']], ['f', ['g'], ['h']]], ['i', ['j'], ['k', ['l'], ['m', ['n'], ['o']]]]]`\n",
        "\n",
        "Create a Python function called `preorder` that will take this tree as an input and print each node's label. The result should be a list of the nodes using pre-order traversal. Use the pseudocode from Figure 14.4.2 and reproduced here to help you.\n",
        "\n",
        "```\n",
        "      Pre-order(v)\n",
        "\n",
        "      process(v)\n",
        "      For every child w of v:\n",
        "            Pre-order(w)\n",
        "      End-for\n",
        "```"
      ]
    },
    {
      "cell_type": "markdown",
      "metadata": {
        "id": "Z0iaLS-6Rfzm"
      },
      "source": [
        "#### Your Answer:"
      ]
    },
    {
      "cell_type": "code",
      "source": [
        "tree = ['a', ['b', ['c', ['d'], ['e']], ['f', ['g'], ['h']]], ['i', ['j'], ['k', ['l'], ['m', ['n'], ['o']]]]]\n",
        "\n",
        "def preorder(T):\n",
        "    process(T[0])\n",
        "    for child in T[1:]:\n",
        "        preorder(child)\n",
        "\n",
        "preorder(tree) # should result in: a b c d e f g h i j k l m n o"
      ],
      "metadata": {
        "id": "A7htCbqqVF8b",
        "outputId": "1c557cc1-acec-4528-c97f-217579c38bd9",
        "colab": {
          "base_uri": "https://localhost:8080/"
        }
      },
      "execution_count": 6,
      "outputs": [
        {
          "output_type": "stream",
          "name": "stdout",
          "text": [
            "a b c d e f g h i j k l m n o "
          ]
        }
      ]
    },
    {
      "cell_type": "markdown",
      "metadata": {
        "id": "uHCDlNKGRfzm"
      },
      "source": [
        "### Exercise 7.11\n"
      ]
    },
    {
      "cell_type": "markdown",
      "metadata": {
        "id": "kPMThmD3Rfzn"
      },
      "source": [
        "Using the same tree from the previous exercise, create a Python function called `postorder` that will take this tree as an input and print each node's label. The result should be a list of the nodes using post-order traversal. Use the pseudocode from Figure 14.4.3 and reproduced here to help you.\n",
        "\n",
        "```\n",
        "      Post-order(v)\n",
        "\n",
        "      For every child w of v:\n",
        "            Post-order(w)\n",
        "      End-for\n",
        "      process(v)\n",
        "```"
      ]
    },
    {
      "cell_type": "markdown",
      "metadata": {
        "id": "tBiB8HMYRfzn"
      },
      "source": [
        "#### Your Answer:"
      ]
    },
    {
      "cell_type": "code",
      "execution_count": null,
      "metadata": {
        "id": "jUFeiYq6Rfzn"
      },
      "outputs": [],
      "source": [
        "tree = ['a', ['b', ['c', ['d'], ['e']], ['f', ['g'], ['h']]], ['i', ['j'], ['k', ['l'], ['m', ['n'], ['o']]]]]\n",
        "\n",
        "def postorder(T):\n",
        "    # your code here\n",
        "    pass\n",
        "\n",
        "\n",
        "# Call the preorder function with the tree\n",
        "postorder(tree) # should result in: d e c g h f b j l n o m k i a"
      ]
    },
    {
      "cell_type": "markdown",
      "metadata": {
        "id": "yczbfhB-Rfzn"
      },
      "source": [
        "### Exercise 7.12\n"
      ]
    },
    {
      "cell_type": "markdown",
      "metadata": {
        "id": "h6oQRywBRfzn"
      },
      "source": [
        "Give the vertex order and draw the resulting tree from doing a Depth-first search on the following graph. Start at vertex `a`. Use alphabetical order to break any ties."
      ]
    },
    {
      "cell_type": "markdown",
      "metadata": {
        "id": "Us1O76dJRfzo"
      },
      "source": [
        "![image.png](data:image/png;base64,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)"
      ]
    },
    {
      "cell_type": "markdown",
      "metadata": {
        "id": "7sqJzI20Rfzo"
      },
      "source": [
        "#### Your Answer:"
      ]
    },
    {
      "cell_type": "markdown",
      "metadata": {
        "id": "xuqYii0sRfzo"
      },
      "source": [
        "### Exercise 7.13"
      ]
    },
    {
      "cell_type": "markdown",
      "metadata": {
        "id": "kvrYtSYiRfzp"
      },
      "source": [
        "Give the vertex order and draw the resulting tree from doing a Breadth-first search on the following graph. Start at vertex `a`. Use alphabetical order to break any ties."
      ]
    },
    {
      "cell_type": "markdown",
      "metadata": {
        "id": "bPS2DI0zRfzp"
      },
      "source": [
        "![image.png](data:image/png;base64,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)"
      ]
    },
    {
      "cell_type": "markdown",
      "metadata": {
        "id": "0LWizs6gRfzp"
      },
      "source": [
        "#### Your Answer:"
      ]
    },
    {
      "cell_type": "markdown",
      "metadata": {
        "id": "_OSjCML0Rfzp"
      },
      "source": [
        "### Exercise 7.14\n"
      ]
    },
    {
      "cell_type": "markdown",
      "metadata": {
        "id": "QE5HzDpHRfzq"
      },
      "source": [
        "Use Prim's Algorithm to find a minimal spanning tree for the following graphs. Start at vertex `a` and use alphabetical order to break any ties.\n",
        "\n",
        "1. List the edges in the order in which they are added to the tree.\n",
        "2. Give the weight of the minimal spanning tree.\n",
        "\n",
        "You do not need to draw them."
      ]
    },
    {
      "cell_type": "code",
      "execution_count": null,
      "metadata": {
        "id": "IOqGdpxLRfzq",
        "outputId": "cdad3d12-d5f0-42bb-8344-dfc857eab950"
      },
      "outputs": [
        {
          "data": {
            "image/png": "[encoded data removed]",
            "text/plain": [
              "<IPython.core.display.Image object>"
            ]
          },
          "metadata": {},
          "output_type": "display_data"
        }
      ],
      "source": [
        "#@title Graph 1: {display-mode: \"form\"}\n",
        "dot = '''\n",
        "graph {\n",
        "    layout=dot;\n",
        "    ranksep=.75;\n",
        "    size=6;\n",
        "    edge [fontsize=12, fontcolor=red];\n",
        "    node [shape=circle, margin=0, width=0.25];\n",
        "    a;\n",
        "    subgraph {\n",
        "        b;c;d;e;f;\n",
        "        rank=same;\n",
        "    }\n",
        "    a--b [label=6];\n",
        "    a--c [label=5];\n",
        "    a--d [label=4];\n",
        "    a--e [label=5];\n",
        "    a--f [label=6];\n",
        "    b--c [label=3];\n",
        "    c--d [label=2];\n",
        "    d--e [label=2];\n",
        "    e--f [label=3];\n",
        "  }\n",
        " '''\n",
        "from graphviz import Source\n",
        "from IPython.display import Image, display\n",
        "display(Image(Source(dot, format='png').render()))"
      ]
    },
    {
      "cell_type": "code",
      "execution_count": null,
      "metadata": {
        "id": "cfc_p3eIRfzr",
        "outputId": "1b479c4a-2d17-4221-bbbb-c07527b635bd"
      },
      "outputs": [
        {
          "data": {
            "image/png": "[encoded data removed]",
            "text/plain": [
              "<IPython.core.display.Image object>"
            ]
          },
          "metadata": {},
          "output_type": "display_data"
        }
      ],
      "source": [
        "#@title Graph 2: {display-mode: \"form\"}\n",
        "dot = '''\n",
        "graph {\n",
        "    layout=dot;\n",
        "    rankdir=LR;\n",
        "    ranksep=.75;\n",
        "    size=6;\n",
        "    edge [fontsize=12, fontcolor=red];\n",
        "    node [shape=circle, margin=0, width=0.25];\n",
        "    subgraph {\n",
        "        a;b;\n",
        "        rank=same;\n",
        "    }\n",
        "    subgraph {\n",
        "        e;h;\n",
        "        rank=same;\n",
        "    }\n",
        "    subgraph {\n",
        "        f;g;\n",
        "        rank=same;\n",
        "    }\n",
        "\n",
        "    subgraph {\n",
        "        c;d;\n",
        "        rank=same;\n",
        "    }\n",
        "\n",
        "    a--b [label=4];\n",
        "    a--d [label=10];\n",
        "    a--e [label=2];\n",
        "    b--c [label=11];\n",
        "    d--c [label=5];\n",
        "    e--f [label=4];\n",
        "    f--g [label=2];\n",
        "    g--h [label=4];\n",
        "    e--h [label=2];\n",
        "    h--f [label=6];\n",
        "    e--b [label=5];\n",
        "    h--b [label=6];\n",
        "    g--c [label=7];\n",
        "    g--d [label=8];\n",
        "    f--d [label=4];\n",
        "  }\n",
        " '''\n",
        "from graphviz import Source\n",
        "from IPython.display import Image, display\n",
        "display(Image(Source(dot, format='png').render()))"
      ]
    },
    {
      "cell_type": "markdown",
      "metadata": {
        "id": "zPqEXovPRfzr"
      },
      "source": [
        "#### Your Answer:"
      ]
    },
    {
      "cell_type": "markdown",
      "metadata": {
        "id": "HCjgnJwTbbhN"
      },
      "source": [
        "----------------------\n",
        "## Sample Solutions\n",
        "\n",
        "**Note**:\n",
        "Sample solutions are provided in order to help you **learn**. The purpose of these exercises is not to simply turn in the answers, but to take the time and effort to learn and understand the material. You are encouraged to work the problems first, then when you are satisfied that you have the correct answer, look at the sample solution and compare it with yours."
      ]
    },
    {
      "cell_type": "markdown",
      "metadata": {
        "id": "WdwLay28Rfzs"
      },
      "source": [
        "### Sample Solution 7.1"
      ]
    },
    {
      "cell_type": "markdown",
      "metadata": {
        "id": "eciQTE3TRfzs"
      },
      "source": [
        "![six-unrooted-unlabeled-node-trees.png](data:image/png;base64,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)"
      ]
    },
    {
      "cell_type": "markdown",
      "metadata": {
        "id": "JWnPteMbRfzs"
      },
      "source": [
        "### Sample Solution 7.2"
      ]
    },
    {
      "cell_type": "code",
      "execution_count": null,
      "metadata": {
        "id": "LnVpX0KdRfzt"
      },
      "outputs": [],
      "source": [
        "tree1 = '''\n",
        "graph tree {\n",
        "    layout=dot\n",
        "    node [shape=circle]\n",
        "    \"*\"--a;\n",
        "    \"*\"--\"+\";\n",
        "    \"+\"--b;\n",
        "    \"+\"--c;\n",
        "\n",
        "}'''\n",
        "from graphviz import Source\n",
        "from IPython.display import Image, display\n",
        "display(Image(Source(tree1, format='png').render()))"
      ]
    },
    {
      "cell_type": "code",
      "execution_count": null,
      "metadata": {
        "id": "KNIWeCyVRfzt"
      },
      "outputs": [],
      "source": [
        "tree2 = '''\n",
        "graph tree {\n",
        "    layout=dot\n",
        "    node [shape=circle]\n",
        "    \"+\"--\"*\";\n",
        "    \"*\"--a;\n",
        "    \"*\"--b;\n",
        "    \"+\"--c;\n",
        "\n",
        "}'''\n",
        "display(Image(Source(tree2, format='png').render()))"
      ]
    },
    {
      "cell_type": "code",
      "execution_count": null,
      "metadata": {
        "id": "I1NC3Kf_Rfzt"
      },
      "outputs": [],
      "source": [
        "# ab + ac\n",
        "tree3 = '''\n",
        "graph tree {\n",
        "    layout=dot\n",
        "    node [shape=circle]\n",
        "    \"+\"--\"* \";\n",
        "    \"+\"--\"*\";\n",
        "    \"* \"--a;\n",
        "    \"* \"--b;\n",
        "    \"*\"--\"a \";\n",
        "    \"*\"--c;\n",
        "\n",
        "}'''\n",
        "display(Image(Source(tree3, format='png').render()))"
      ]
    },
    {
      "cell_type": "code",
      "execution_count": null,
      "metadata": {
        "id": "1pz46RWxRfzu"
      },
      "outputs": [],
      "source": [
        "# bb-4ac\n",
        "\n",
        "tree4 = '''\n",
        "graph tree {\n",
        "  layout=dot\n",
        "  node [shape=circle]\n",
        "  \"-\"--\"*\";\n",
        "  \"-\"--\"* \";\n",
        "  \"*\"--\"b\";\n",
        "  \"*\"--\"b \";\n",
        "  \"* \"--\" *\";\n",
        "  \"* \"--c;\n",
        "  \" *\"--4;\n",
        "  \" *\"--a;\n",
        "}'''\n",
        "\n",
        "display(Image(Source(tree4, format='png').render()))\n"
      ]
    },
    {
      "cell_type": "code",
      "execution_count": null,
      "metadata": {
        "id": "Ja7lF7OeRfzu"
      },
      "outputs": [],
      "source": [
        "# 5. $a^2 + b^2$\n",
        "tree5 = '''\n",
        "graph tree {\n",
        "  layout=dot\n",
        "  node [shape=circle]\n",
        "  \"+\"--\"*\";\n",
        "  \"*\"--a;\n",
        "  \"*\"--\"a \";\n",
        "  \"+\"--\"* \";\n",
        "  \"* \"--b;\n",
        "  \"* \"--\"b \";\n",
        "}'''\n",
        "\n",
        "display(Image(Source(tree5, format='png').render()))"
      ]
    },
    {
      "cell_type": "markdown",
      "metadata": {
        "id": "qX5dcFFcRfzu"
      },
      "source": [
        "### Sample Solution 7.3"
      ]
    },
    {
      "cell_type": "markdown",
      "metadata": {
        "id": "-MEXkAURRfzu"
      },
      "source": [
        "The answer is 4. This is the tree:"
      ]
    },
    {
      "cell_type": "code",
      "execution_count": null,
      "metadata": {
        "id": "2hLVrbBdRfzu"
      },
      "outputs": [],
      "source": [
        "dot = '''\n",
        "graph tree {\n",
        "  layout=dot\n",
        "  node [shape=circle]\n",
        "  \"-\"--\"*\";\n",
        "  \"*\"--13;\n",
        "  \"*\"--\"+\";\n",
        "  \"+\"--\"/\";\n",
        "  \"+\"--12;\n",
        "  \"/\"--32;\n",
        "  \"/\"--\"-4\";\n",
        "  \"-\"--\"* \";\n",
        "  \"* \"--\"+ \";\n",
        "  \"* \"--4;\n",
        "  \"+ \"--\"- \";\n",
        "  \"+ \"--3;\n",
        "  \"- \"--10;\n",
        "  \"- \"--1;\n",
        "}'''\n",
        "\n",
        "display(Image(Source(dot, format='png').render()))"
      ]
    },
    {
      "cell_type": "markdown",
      "metadata": {
        "id": "5FsYW9KoRfzv"
      },
      "source": [
        "### Sample Solution 7.4"
      ]
    },
    {
      "cell_type": "code",
      "execution_count": null,
      "metadata": {
        "id": "cTtB547JRfzv"
      },
      "outputs": [],
      "source": [
        "et = ['-',['*',13,['+',['/',32,-4],12]],['*',['+',['-',10,1],3],4]]\n",
        "\n",
        "def evaluate_tree(t):\n",
        "    if isinstance(t, int): # Must be a leaf node\n",
        "        return t\n",
        "    elif t[0]==\"-\":\n",
        "        return evaluate_tree(t[1]) - evaluate_tree(t[2])\n",
        "    elif t[0] == \"+\":\n",
        "        return evaluate_tree(t[1]) + evaluate_tree(t[2])\n",
        "    elif t[0] == \"*\":\n",
        "        return evaluate_tree(t[1]) * evaluate_tree(t[2])\n",
        "    elif t[0] == \"/\":\n",
        "        return evaluate_tree(t[1]) // evaluate_tree(t[2])\n",
        "    else: # we have a problem\n",
        "        raise(ValueError)\n",
        "\n",
        "evaluate_tree(et)"
      ]
    },
    {
      "cell_type": "code",
      "execution_count": null,
      "metadata": {
        "id": "_ZCeJG7qRfzv"
      },
      "outputs": [],
      "source": [
        "# Alternative solution, making use of the Python eval() function\n",
        "\n",
        "def evaluate_tree(t):\n",
        "  if isinstance(t, int):\n",
        "    return t\n",
        "\n",
        "  return eval(f'{evaluate_tree(t[1])} {t[0]} {evaluate_tree(t[2])}')\n",
        "\n",
        "evaluate_tree(et)\n"
      ]
    },
    {
      "cell_type": "code",
      "execution_count": null,
      "metadata": {
        "id": "T7LNEyNNRfzz"
      },
      "outputs": [],
      "source": [
        "# Alternative solution provided by Michael Hendrick, Spring 2023\n",
        "op_map = {\n",
        "    \"+\": (lambda x, y: x + y),\n",
        "    \"-\": (lambda x, y: x - y),\n",
        "    \"*\": (lambda x, y: x * y),\n",
        "    \"/\": (lambda x, y: x / y),\n",
        "}\n",
        "\n",
        "def evaluate(ls):\n",
        "  operator = ls[0]\n",
        "  a = evaluate(ls[1]) if isinstance(ls[1], list) else ls[1]\n",
        "  b = evaluate(ls[2]) if isinstance(ls[2], list) else ls[2]\n",
        "\n",
        "  return op_map[operator](a, b)\n",
        "\n",
        "evaluate(et)\n"
      ]
    },
    {
      "cell_type": "markdown",
      "metadata": {
        "id": "G97sAHaGRfz0"
      },
      "source": [
        "### Sample Solution 7.5"
      ]
    },
    {
      "cell_type": "markdown",
      "metadata": {
        "id": "UUuWs9ONRfz0"
      },
      "source": [
        "1. 001000100011100011\n",
        "2. 01011010010000111111101101111111111011100\n",
        "3. banana\n",
        "4. orange"
      ]
    },
    {
      "cell_type": "markdown",
      "metadata": {
        "id": "g8hNtRJFRfz0"
      },
      "source": [
        "### Sample Solution 7.6"
      ]
    },
    {
      "cell_type": "code",
      "execution_count": null,
      "metadata": {
        "id": "YgzL_axyRfz1"
      },
      "outputs": [],
      "source": [
        "# create a dictionary to store the encodings\n",
        "d = {'d': '0000', 'l': '0001', 'i': '001', 'r': '0100', 'n': '0101', 'p': '01100', 'z': '01101000', 'w': '011010010', 'y': '011010011', 'j': '011010100', 'k': '011010101', 'h': '01101011', 'g': '0110110',\n",
        "     'v': '0110111', 'a': '0111', 'o': '1000', 'u': '1001', 't': '1010', 'c': '10110', 'b': '1011100', 'f': '1011101', 'x': '1011110', 'q': '1011111', ' ': '110', 'm': '11100', 's': '11101', 'e': '1111'}\n",
        "\n",
        "message = 'discrete math is fun'\n",
        "\n",
        "# using map\n",
        "def encode(message):\n",
        "    return ''.join(map(lambda x: d[x], message))\n",
        "\n",
        "print(encode(message))\n",
        "\n",
        "# another way using a conventional function\n",
        "def encode(message):\n",
        "    result = ''\n",
        "    for letter in message:\n",
        "        result += d[letter]\n",
        "    return result\n",
        "\n",
        "print(encode(message))"
      ]
    },
    {
      "cell_type": "markdown",
      "metadata": {
        "id": "P3CyXNt8Rfz1"
      },
      "source": [
        "### Sample Solution 7.7"
      ]
    },
    {
      "cell_type": "code",
      "execution_count": null,
      "metadata": {
        "id": "tWlTWeCQRfz1"
      },
      "outputs": [],
      "source": [
        "# create a dictionary to store the encodings\n",
        "d = {'d': '0000', 'l': '0001', 'i': '001', 'r': '0100', 'n': '0101', 'p': '01100', 'z': '01101000', 'w': '011010010', 'y': '011010011', 'j': '011010100', 'k': '011010101', 'h': '01101011', 'g': '0110110',\n",
        "     'v': '0110111', 'a': '0111', 'o': '1000', 'u': '1001', 't': '1010', 'c': '10110', 'b': '1011100', 'f': '1011101', 'x': '1011110', 'q': '1011111', ' ': '110', 'm': '11100', 's': '11101', 'e': '1111'}\n",
        "\n",
        "# swap key,value in the dictionary to make lookups faster.\n",
        "rev_d = dict([(value, key) for key, value in d.items()])\n",
        "print(rev_d) # print it to see what it looks like\n",
        "\n",
        "encoded_message = '0110001001111101110100110111101101011010000000111111101110011101001111110101110110010101'\n",
        "\n",
        "def decode(string):\n",
        "    result = ''\n",
        "    bits = ''\n",
        "    while len(string) > 0:\n",
        "        bits += string[:1]\n",
        "        string = string[1:]\n",
        "        if rev_d.get(bits):\n",
        "            result += rev_d.get(bits)\n",
        "            bits = ''\n",
        "    return result\n",
        "\n",
        "print()\n",
        "print(f'Decoded message: {decode(encoded_message)}')\n"
      ]
    },
    {
      "cell_type": "markdown",
      "metadata": {
        "id": "UNqtdoXkRfz1"
      },
      "source": [
        "### Sample Solution 7.8"
      ]
    },
    {
      "cell_type": "code",
      "execution_count": null,
      "metadata": {
        "id": "jyP3iVXdRfz2"
      },
      "outputs": [],
      "source": [
        "word = \"mississippi\"\n",
        "# 1\n",
        "print(f'1. {8*len(word)}')\n",
        "\n",
        "# 2\n",
        "total = 1*word.count('s') + 2*word.count('i') + 3*word.count('m') + 3*word.count('p')\n",
        "print(f'2. {total}')\n",
        "\n",
        "# 3\n",
        "print(f'3. {total/len(word)} bits per letter')\n",
        "\n",
        "# 4\n",
        "f = 8  # 8 bits per letter for fixed encoding\n",
        "v = total/len(word)  # this many bits per letter for variable length encoding using the given prefix code\n",
        "print(f'4. {100*(f-v)/f:.2f}%')"
      ]
    },
    {
      "cell_type": "markdown",
      "metadata": {
        "id": "X-yR9aclRfz2"
      },
      "source": [
        "### Sample Solution 7.9"
      ]
    },
    {
      "cell_type": "markdown",
      "metadata": {
        "id": "t3LQlz21Rfz2"
      },
      "source": [
        "1. Pre-order: a b c d e f g h i j k l m n o\n",
        "2. Post-order: d e c g h f b j l n o m k i a"
      ]
    },
    {
      "cell_type": "markdown",
      "metadata": {
        "id": "Fs8FuUdzRfz2"
      },
      "source": [
        "### Sample Solution 7.10"
      ]
    },
    {
      "cell_type": "code",
      "execution_count": null,
      "metadata": {
        "id": "Wz2QXnDtRfz2"
      },
      "outputs": [],
      "source": [
        "tree = ['a', ['b', ['c', ['d'], ['e']], ['f', ['g'], ['h']]], ['i', ['j'], ['k', ['l'], ['m', ['n'], ['o']]]]]\n",
        "\n",
        "# Print a single node\n",
        "def process(v):\n",
        "    print(v, end=\" \")\n",
        "\n",
        "def preorder(T):\n",
        "    process(T[0])\n",
        "    for child in T[1:]:\n",
        "        preorder(child)\n",
        "\n",
        "preorder(tree) # should result in: a b c d e f g h i j k l m n o"
      ]
    },
    {
      "cell_type": "markdown",
      "metadata": {
        "id": "5jJKTYSWRfz3"
      },
      "source": [
        "### Sample Solution 7.11"
      ]
    },
    {
      "cell_type": "code",
      "execution_count": null,
      "metadata": {
        "id": "SiXsgKhtRfz3"
      },
      "outputs": [],
      "source": [
        "tree = ['a', ['b', ['c', ['d'], ['e']], ['f', ['g'], ['h']]], ['i', ['j'], ['k', ['l'], ['m', ['n'], ['o']]]]]\n",
        "\n",
        "# Print a single node\n",
        "def process(v):\n",
        "    print(v, end=\" \")\n",
        "\n",
        "def postorder(T):\n",
        "    for child in T[1:]:\n",
        "        postorder(child)\n",
        "    process(T[0])\n",
        "\n",
        "postorder(tree)"
      ]
    },
    {
      "cell_type": "markdown",
      "metadata": {
        "id": "GAhnHeLzRfz3"
      },
      "source": [
        "### Sample Solution 7.12"
      ]
    },
    {
      "cell_type": "markdown",
      "metadata": {
        "id": "QrfZXQ30Rfz3"
      },
      "source": [
        "Order: a, b, c, e, d, f, g"
      ]
    },
    {
      "cell_type": "code",
      "execution_count": null,
      "metadata": {
        "id": "N1A1JHSSRfz3"
      },
      "outputs": [],
      "source": [
        "my_tree = '''\n",
        "graph tree {\n",
        "  layout=dot\n",
        "  node [shape=circle]\n",
        "  a--b--c--e--d;\n",
        "  e--f--g;\n",
        "}'''\n",
        "display(Image(Source(my_tree, format='png').render()))"
      ]
    },
    {
      "cell_type": "markdown",
      "metadata": {
        "id": "GG1zOCFPRfz4"
      },
      "source": [
        "### Sample Solution 7.13"
      ]
    },
    {
      "cell_type": "markdown",
      "metadata": {
        "id": "HoTYDUPrRfz4"
      },
      "source": [
        "Order: a, b, c, d, e, f, g"
      ]
    },
    {
      "cell_type": "code",
      "execution_count": null,
      "metadata": {
        "id": "-dqoCADERfz4"
      },
      "outputs": [],
      "source": [
        "\n",
        "my_tree = '''\n",
        "graph tree {\n",
        "  layout=dot\n",
        "  node [shape=circle]\n",
        "  a--{b, c};\n",
        "  b--d;\n",
        "  c--{e, f};\n",
        "  f--g;\n",
        "}'''\n",
        "display(Image(Source(my_tree, format='png').render()))"
      ]
    },
    {
      "cell_type": "markdown",
      "metadata": {
        "id": "A41ElLjiRfz4"
      },
      "source": [
        "### Sample Solution 7.14"
      ]
    },
    {
      "cell_type": "markdown",
      "metadata": {
        "id": "ViCwhvEsRfz4"
      },
      "source": [
        "Graph 1: \\\n",
        "{a,d}, {c,d}, {d,e}, {b,c}, {e,f} \\\n",
        "Total weight: 14\n",
        "\n",
        "\n",
        "Graph 2:\\\n",
        "{a,e}, {e,h}, {a,b}, {e,f}, {f,g}, {d,f}, {c,d}\\\n",
        "Total weight: 23"
      ]
    }
  ],
  "metadata": {
    "colab": {
      "collapsed_sections": [
        "HCjgnJwTbbhN"
      ],
      "name": "cse280-homework-07.ipynb",
      "provenance": [],
      "toc_visible": true
    },
    "kernelspec": {
      "display_name": "Python 3.9.0 ('.env': venv)",
      "language": "python",
      "name": "python3"
    },
    "language_info": {
      "codemirror_mode": {
        "name": "ipython",
        "version": 3
      },
      "file_extension": ".py",
      "mimetype": "text/x-python",
      "name": "python",
      "nbconvert_exporter": "python",
      "pygments_lexer": "ipython3",
      "version": "3.9.0"
    },
    "vscode": {
      "interpreter": {
        "hash": "1977c1262a5a71e57f8e1e2a9337f4268800bf2d1a595fc1ecb322ccb8b2351d"
      }
    }
  },
  "nbformat": 4,
  "nbformat_minor": 0
}
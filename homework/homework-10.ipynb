{
  "cells": [
    {
      "cell_type": "markdown",
      "metadata": {
        "id": "_Mr3AvSgSswx"
      },
      "source": [
        "# Homework 10 - Cryptography"
      ]
    },
    {
      "cell_type": "markdown",
      "metadata": {
        "id": "w1t0weuGbbhA"
      },
      "source": [
        "**Instructions:** Complete the exercises below.\n",
        "\n",
        "1. Make a copy of this Colab Notebook using **`File -> Save a copy in Drive`**.\n",
        "\n",
        "2. Answer the exercise questions below. Type your answers to each question by double-clicking on **`Your Answer`** and typing your response.\n",
        "\n",
        "    Note that you can use any combination of plain text, Markdown, or LaTeX. As a last resort, you can simply take a picture of your handwritten work and upload it to an answer cell below.\n",
        "\n",
        "3. To submit your work, turn in the URL for your Colab notebook."
      ]
    },
    {
      "cell_type": "markdown",
      "metadata": {
        "id": "bEsUKV6DbbhB"
      },
      "source": [
        "**Note**:\n",
        "Sample solutions are provided in order to help you **learn**. The purpose of these exercises is not to simply turn in the answers, but to take the time and effort to learn and understand the material. You are encouraged to work the problems first, then when you are satisfied that you have the correct answer, look at the sample solution and compare it with yours."
      ]
    },
    {
      "cell_type": "markdown",
      "metadata": {
        "id": "P3ACFdLbLZER"
      },
      "source": [
        "As you complete the problems below, you may use Python whenever you can think of a way it could help you answer the question."
      ]
    },
    {
      "cell_type": "markdown",
      "metadata": {
        "id": "k_DwL7RGLZER"
      },
      "source": [
        "### Exercise 10.1"
      ]
    },
    {
      "cell_type": "markdown",
      "metadata": {
        "id": "9mIhcr4LLZES"
      },
      "source": [
        "For each of the following n and b, convert n to base b. (Compute this by hand)\n",
        "\n",
        "1. n=39, b=2\n",
        "2. n=27, b=3\n",
        "3. n=365, b=16 (hex)\n",
        "4. n=99, b=8"
      ]
    },
    {
      "cell_type": "markdown",
      "metadata": {
        "id": "fU1CDqjsLZES"
      },
      "source": [
        "#### Your Answer:"
      ]
    },
    {
      "cell_type": "markdown",
      "metadata": {
        "id": "jAWHJtbqLZES"
      },
      "source": [
        "### Exercise 10.2"
      ]
    },
    {
      "cell_type": "markdown",
      "metadata": {
        "id": "G2PL9dQVLZET"
      },
      "source": [
        "Implement the base-b expansion algorithm in Figure 9.6.3 and reproduced here.\n",
        "\n",
        "```\n",
        "Input: Integers n and b. b > 1 and n ≥ 1.\n",
        "Output: Base b expansion of n. Base b digits are output in reverse order.\n",
        "\n",
        "x := n\n",
        "while ( x > 0 )\n",
        "      Output( x mod b )\n",
        "      x := x div b\n",
        "End-while\n",
        "```"
      ]
    },
    {
      "cell_type": "markdown",
      "metadata": {
        "id": "_DPYlpLGLZET"
      },
      "source": [
        "#### Your answer:"
      ]
    },
    {
      "cell_type": "code",
      "execution_count": null,
      "metadata": {
        "id": "AkFjPQCsLZET"
      },
      "outputs": [],
      "source": [
        "# convert n to base b\n",
        "def ntob(n, b):\n",
        "    # Your code here\n",
        "    pass\n",
        "\n",
        "print(ntob(32,2)) # should print 100000\n",
        "print(ntob(16,8)) # should print 20\n",
        "print(ntob(10,8)) # should print 12\n",
        "print(ntob(10,3)) # should print 101\n"
      ]
    },
    {
      "cell_type": "markdown",
      "metadata": {
        "id": "Ba5LnVyBLZEU"
      },
      "source": [
        "### Exercise 10.3"
      ]
    },
    {
      "cell_type": "markdown",
      "metadata": {
        "id": "X54Mf6noLZEU"
      },
      "source": [
        "Express the following exponents as a product of terms whose exponents are powers of 2 by first converting the exponent to a base-2 number, then expanding the exponent into a product of terms of the form $b^{2^i}$, where $i$ is a non-negative integer.\n",
        "\n",
        "For example, to expand $b^{53}$, do the following.\n",
        "\n",
        "$53 = 110101$\\\n",
        "$53 = 2^5 + 2^4 + 2^2 + 2^0 = 32 + 16 + 4 + 1$\\\n",
        "$b^{53} = b^{32+16+4+1} = b^{32} \\cdot b^{16} \\cdot b^{4} \\cdot b^{1}$\n",
        "\n",
        "\n",
        "1. $b^{33}$\n",
        "\n",
        "2. $b^{57}$\n",
        "\n",
        "3. $b^{123}$"
      ]
    },
    {
      "cell_type": "markdown",
      "metadata": {
        "id": "po2wDg1HLZEV"
      },
      "source": [
        "#### Your answer:\n"
      ]
    },
    {
      "cell_type": "markdown",
      "metadata": {
        "id": "nvaMFwtrLZEV"
      },
      "source": [
        "### Exercise 10.4"
      ]
    },
    {
      "cell_type": "markdown",
      "metadata": {
        "id": "-_bCfW0XLZEV"
      },
      "source": [
        "Compute the values of each of the following expressions using fast modular exponentiation. Show your work. Do not use a calculator.\n",
        "\n",
        "1. $7^{46}\\bmod 9$\n",
        "\n",
        "2. $44^{67}\\bmod 12$\n",
        "\n",
        "3. $13^{52}\\bmod 7$"
      ]
    },
    {
      "cell_type": "markdown",
      "metadata": {
        "id": "kGzm8goNLZEV"
      },
      "source": [
        "#### Your answer:\n"
      ]
    },
    {
      "cell_type": "markdown",
      "metadata": {
        "id": "VhAhV-G1LZEV"
      },
      "source": [
        "### Exercise 10.5"
      ]
    },
    {
      "cell_type": "markdown",
      "metadata": {
        "id": "pwrOhOenLZEW"
      },
      "source": [
        "Implement the algorithm for fast modular exponentiation found in Figure 9.7.4 and reproduced here.\n",
        "\n",
        "```\n",
        "Input: Positive integers x, y, and n.\n",
        "Output: x^y mod n\n",
        "\n",
        "p := 1     //p holds the partial result.\n",
        "s := x     //s holds the current $x^2^j$.\n",
        "r := y     //r is used to compute the binary expansion of y\n",
        "\n",
        "While ( r > 0 )\n",
        "      If ( r mod 2 = 1 )\n",
        "            p := p·s mod n\n",
        "      s := s·s mod n\n",
        "      r := r div 2\n",
        "End-while\n",
        "\n",
        "Return(p)\n",
        "```"
      ]
    },
    {
      "cell_type": "markdown",
      "metadata": {
        "id": "w1bxxlEDLZEW"
      },
      "source": [
        "#### Your answer:"
      ]
    },
    {
      "cell_type": "code",
      "execution_count": null,
      "metadata": {
        "id": "X0duU5a6LZEW"
      },
      "outputs": [],
      "source": [
        "# Computes x**y mod n\n",
        "def fast_mod_exp(x, y, n):\n",
        "    # your code here\n",
        "    pass\n",
        "\n",
        "print(fast_mod_exp(5,35,11))  # should be 1\n",
        "print(fast_mod_exp(5,68,7))   # should be 4\n",
        "print(fast_mod_exp(53,27,12)) # should be 5"
      ]
    },
    {
      "cell_type": "markdown",
      "metadata": {
        "id": "2S5AHLagLZEX"
      },
      "source": [
        "### Exercise 10.6"
      ]
    },
    {
      "cell_type": "markdown",
      "metadata": {
        "id": "EaRPfTAZLZEX"
      },
      "source": [
        "The following function `xgcd()` implements the extended Euclidean algorithm to return the gcd and the coefficients s and t of the equation gcd(x,y) = sx + ty."
      ]
    },
    {
      "cell_type": "code",
      "execution_count": null,
      "metadata": {
        "id": "evUfiKzILZEX"
      },
      "outputs": [],
      "source": [
        "# Extended Euclidean Algorithm. Solves gcd(x,y)=sx+ty.\n",
        "# Returns (gcd(x,y), s, t)\n",
        "def xgcd(x,y):\n",
        "    x0, x1 = 1, 0\n",
        "    y0, y1 = 0, 1\n",
        "    while y>0:\n",
        "        q = x//y\n",
        "        x1, x0 = x0 - q*x1, x1\n",
        "        y1, y0 = y0 - q*y1, y1\n",
        "        x,y = y, x%y\n",
        "    return x,x0,y0\n",
        "\n",
        "xgcd(83,96) # returns (1, -37, 32), which represents 1 = -37*83 + 32*96"
      ]
    },
    {
      "cell_type": "markdown",
      "metadata": {
        "id": "bAbSoc4BLZEX"
      },
      "source": [
        "Using the `xgcd()` function, write another function to return the multiplicative inverse of x mod n."
      ]
    },
    {
      "cell_type": "code",
      "execution_count": null,
      "metadata": {
        "id": "UWF8aYHHLZEX"
      },
      "outputs": [],
      "source": [
        "# returns the multiplicative inverse (MMI) of x under mod n\n",
        "def MMI(x,n):\n",
        "    # your code here\n",
        "    pass\n",
        "\n",
        "MMI(83,96) # should return 59. If it returns -37, be sure to add n to make it positive"
      ]
    },
    {
      "cell_type": "markdown",
      "metadata": {
        "id": "EF4VhzliLZEX"
      },
      "source": [
        "### Exercise 10.7"
      ]
    },
    {
      "cell_type": "markdown",
      "metadata": {
        "id": "D8X3gmYBLZEY"
      },
      "source": [
        "Convert each of the following numbers into a text message. The encoding scheme associates each 2-digit number with a letter or space. (A=01, B=02, ..., space=27).\n",
        "\n",
        "You may use Python to help you.\n",
        "\n",
        "\n",
        "1. 022521270904010815\n",
        "2. 0409190318052005271301200827091927062114\n",
        "3. 0514031504091407272309200827040907092019"
      ]
    },
    {
      "cell_type": "code",
      "execution_count": null,
      "metadata": {
        "id": "OMAfeOfULZEY"
      },
      "outputs": [],
      "source": [
        "# The following dictionary is provided to help you.\n",
        "# It may be easier if you create a \"reverse-lookup\" dictionary\n",
        "# that is the opposite of this dictionary.\n",
        "\n",
        "letters_to_digits = {'A': '01', 'B': '02', 'C': '03', 'D': '04', 'E': '05', 'F': '06', 'G': '07', 'H': '08', 'I': '09', 'J': '10', 'K': '11', 'L': '12', 'M': '13', 'N': '14', 'O': '15', 'P': '16', 'Q': '17', 'R': '18', 'S': '19', 'T': '20', 'U': '21', 'V': '22', 'W': '23', 'X': '24', 'Y': '25', 'Z': '26', ' ': '27'}\n"
      ]
    },
    {
      "cell_type": "markdown",
      "metadata": {
        "id": "kMSrnnwLLZEY"
      },
      "source": [
        "#### Your answer:"
      ]
    },
    {
      "cell_type": "markdown",
      "metadata": {
        "id": "voyL0vBFLZEY"
      },
      "source": [
        "### Exercise 10.8"
      ]
    },
    {
      "cell_type": "markdown",
      "metadata": {
        "id": "V3v2QBb7LZEY"
      },
      "source": [
        "Use the RSA public key encryption scheme for this exercise.\n",
        "\n",
        "Given the following\n",
        "\n",
        "p=87178291199, q=22815088913, e=65537, c=1927890433981470755542\n",
        "\n",
        "Use Python to compute N and d, then decrypt c to find m. Use your `MMI()` function from the previous exercise to help you find d. Use your `fast_mod_exp()` function from a previous exercise to help you decrypt c to find m.\n",
        "\n",
        "To check your work, encrypt m and you should get the original c.\n",
        "\n",
        "<!-- Hint: Python has a built-in `pow` function. This function takes three arguments: base, exponent, mod. To compute $m^e \\mod n$, use `pow(m,e,n)` -->\n",
        "\n",
        "Bonus: After finding m, convert it to letters to reveal a hidden message."
      ]
    },
    {
      "cell_type": "markdown",
      "metadata": {
        "id": "97wWy0olLZEY"
      },
      "source": [
        "#### Your answer:"
      ]
    },
    {
      "cell_type": "code",
      "execution_count": null,
      "metadata": {
        "id": "AJBoT-P7LZEY"
      },
      "outputs": [],
      "source": [
        "# Your code here"
      ]
    },
    {
      "cell_type": "markdown",
      "metadata": {
        "id": "HCjgnJwTbbhN"
      },
      "source": [
        "----------------------\n",
        "## Sample Solutions\n",
        "\n",
        "**Note**:\n",
        "Sample solutions are provided in order to help you **learn**. The purpose of these exercises is not to simply turn in the answers, but to take the time and effort to learn and understand the material. You are encouraged to work the problems first, then when you are satisfied that you have the correct answer, look at the sample solution and compare it with yours."
      ]
    },
    {
      "cell_type": "markdown",
      "metadata": {
        "id": "DUq_4SMmLZEZ"
      },
      "source": [
        "### Sample Solution 10.1"
      ]
    },
    {
      "cell_type": "markdown",
      "metadata": {
        "id": "L2nb4IVRLZEZ"
      },
      "source": [
        "1. 39 = 2(19) + 1\n",
        "\n",
        "   19 = 2(9) + 1\n",
        "\n",
        "   9 = 2(4) + 1\n",
        "\n",
        "   4 = 2(2) + 0\n",
        "\n",
        "   2 = 2(1) + 0\n",
        "\n",
        "   1 = 2(0) + 1\n",
        "\n",
        "   100111\n",
        "\n",
        "2. 27 = 3(9) + 0\n",
        "\n",
        "   9 = 3(3) + 0\n",
        "    \n",
        "   3 = 3(1) + 0\n",
        "\n",
        "   1 = 3(0) + 1\n",
        "\n",
        "   1000\n",
        "\n",
        "3. 365 = 16(22) + 13  'D'\n",
        "   \n",
        "   22 = 16(1) + 6\n",
        "    \n",
        "   1 = 16(0) + 1\n",
        "\n",
        "   16D\n",
        "\n",
        "4. 99 = 8(12) + 3\n",
        "   \n",
        "   12 = 8(1) + 4\n",
        "\n",
        "   1 = 8(0) + 1\n",
        "\n",
        "   143\n"
      ]
    },
    {
      "cell_type": "code",
      "execution_count": null,
      "metadata": {
        "id": "9fJdM8LNLZEZ"
      },
      "outputs": [],
      "source": [
        "# Check answers using ntob() from next exercise\n",
        "print(ntob(39,2))\n",
        "print(ntob(27,3))\n",
        "print(ntob(365,16)) # note this will print '13' instead of 'D'\n",
        "print(ntob(99,8))"
      ]
    },
    {
      "cell_type": "markdown",
      "metadata": {
        "id": "g5X7JVlfLZEZ"
      },
      "source": [
        "### Sample Solution 10.2"
      ]
    },
    {
      "cell_type": "code",
      "execution_count": null,
      "metadata": {
        "id": "0oD_-6USLZEZ"
      },
      "outputs": [],
      "source": [
        "def ntob(n, b):\n",
        "    result = ''\n",
        "    x=n\n",
        "    while (x>0):\n",
        "        result = str(x%b) + result\n",
        "        x = x//b\n",
        "    return result\n",
        "\n",
        "print(ntob(32,2))\n",
        "print(ntob(16,8))\n",
        "print(ntob(10,8))\n",
        "print(ntob(10,3))"
      ]
    },
    {
      "cell_type": "markdown",
      "metadata": {
        "id": "-3EwY25WLZEZ"
      },
      "source": [
        "### Sample Solution 10.3"
      ]
    },
    {
      "cell_type": "markdown",
      "metadata": {
        "id": "4eNg603dQNzz"
      },
      "source": [
        "1. $b^{33} = b^{32} \\cdot b^{1}$\n",
        "2. $b^{57} = b^{32} \\cdot b^{16} \\cdot b^{8} \\cdot b^{1}$\n",
        "3. $b^{123} = b^{64} \\cdot b^{32} \\cdot b^{16} \\cdot b^{8} \\cdot b^{2} \\cdot b^{1}$"
      ]
    },
    {
      "cell_type": "markdown",
      "metadata": {
        "id": "Wfm1qmF3LZEZ"
      },
      "source": [
        "### Sample Solution 10.4"
      ]
    },
    {
      "cell_type": "markdown",
      "metadata": {
        "id": "RUyfIUmMUPjP"
      },
      "source": [
        "1. 7\n",
        "2. 8\n",
        "3. 1"
      ]
    },
    {
      "cell_type": "markdown",
      "metadata": {
        "id": "oawhtESaLZEZ"
      },
      "source": [
        "### Sample Solution 10.5"
      ]
    },
    {
      "cell_type": "code",
      "execution_count": null,
      "metadata": {
        "id": "UevckTXeLZEa"
      },
      "outputs": [],
      "source": [
        "# Computes x**y mod n\n",
        "def fast_mod_exp(x, y, n):\n",
        "    p = 1\n",
        "    s = x\n",
        "    r = y\n",
        "    while r>0:\n",
        "        if r % 2 == 1:\n",
        "            p = p*s % n\n",
        "        s = s*s % n\n",
        "        r = r // 2\n",
        "    return p\n",
        "\n",
        "print(fast_mod_exp(5,35,11))  # should be 1\n",
        "print(fast_mod_exp(5,68,7))   # should be 4\n",
        "print(fast_mod_exp(53,27,12)) # should be 5"
      ]
    },
    {
      "cell_type": "markdown",
      "metadata": {
        "id": "Kfa2qJ-QLZEa"
      },
      "source": [
        "### Sample Solution 10.6"
      ]
    },
    {
      "cell_type": "code",
      "execution_count": null,
      "metadata": {
        "id": "xFGS86pBLZEa"
      },
      "outputs": [],
      "source": [
        "# returns the multiplicative inverse (MMI) of x under mod n\n",
        "def MMI(x,n):\n",
        "    g,s,t = xgcd(x,n)\n",
        "    if s<0:\n",
        "        s+=n\n",
        "    return s\n",
        "\n",
        "MMI(83,96) # should return 59. If it returns -37, be sure to add n to make it positive"
      ]
    },
    {
      "cell_type": "code",
      "execution_count": null,
      "metadata": {
        "id": "o7lMrtGCLZEa"
      },
      "outputs": [],
      "source": [
        "# Alternative solution, contributed by student Luke Nethercott in Fall 2022\n",
        "\n",
        "def MMI(x,n):\n",
        "  return xgcd(x,n)[1]%n\n",
        "\n",
        "\n"
      ]
    },
    {
      "cell_type": "markdown",
      "metadata": {
        "id": "TH0DuoYYLZEa"
      },
      "source": [
        "### Sample Solution 10.7"
      ]
    },
    {
      "cell_type": "markdown",
      "metadata": {
        "id": "nYCtu5beWbPr"
      },
      "source": [
        "1. BYU IDAHO\n",
        "2. DISCRETE MATH IS FUN\n",
        "3. ENCODING WITH DIGITS"
      ]
    },
    {
      "cell_type": "markdown",
      "metadata": {
        "id": "Td3G3p7R0T53"
      },
      "source": [
        "Using Python:"
      ]
    },
    {
      "cell_type": "code",
      "execution_count": null,
      "metadata": {
        "id": "Xrz88j3u0T53"
      },
      "outputs": [],
      "source": [
        "# Create a reverse lookup dictionary\n",
        "digits_to_letters = {letters_to_digits[x]:x for x in letters_to_digits}\n",
        "print(digits_to_letters)"
      ]
    },
    {
      "cell_type": "code",
      "execution_count": null,
      "metadata": {
        "id": "eC-j57yh0T54"
      },
      "outputs": [],
      "source": [
        "# Convert digits to a list of groups of 2 digits\n",
        "c = '0514031504091407272309200827040907092019'\n",
        "c = [c[i:i+2] for i in range(0, len(c), 2)]\n",
        "print(c)"
      ]
    },
    {
      "cell_type": "code",
      "execution_count": null,
      "metadata": {
        "id": "XFTmEm1L0T54"
      },
      "outputs": [],
      "source": [
        "# Convert each group of digits to a letter using the dictionary\n",
        "message = ''.join(map(lambda x: digits_to_letters[x], c))\n",
        "print(message)"
      ]
    },
    {
      "cell_type": "code",
      "execution_count": null,
      "metadata": {
        "id": "MeG-qMTB0T54"
      },
      "outputs": [],
      "source": [
        "# Another way\n",
        "message = ''.join([digits_to_letters[x] for x in c])\n",
        "print(message)"
      ]
    },
    {
      "cell_type": "markdown",
      "metadata": {
        "id": "Ja3BT90DLZEa"
      },
      "source": [
        "### Sample Solution 10.8"
      ]
    },
    {
      "cell_type": "code",
      "execution_count": null,
      "metadata": {
        "id": "ojG1-6i6LZEa"
      },
      "outputs": [],
      "source": [
        "# Given\n",
        "p = 87178291199\n",
        "q = 22815088913\n",
        "e = 65537\n",
        "c = 1927890433981470755542\n",
        "\n",
        "# Compute n\n",
        "n = p*q\n",
        "print(f'n: {n}')\n",
        "\n",
        "# Compute t, necessary to find d\n",
        "t = (p-1)*(q-1)\n",
        "\n",
        "# Use MMI function from previous exercise to find d where e*d mod t = 1\n",
        "d = MMI(e, t)\n",
        "print(f'd: {d}')\n",
        "\n",
        "# decrypt c to get m\n",
        "m = fast_mod_exp(c, d, n)\n",
        "print(f'm: {m}')\n",
        "\n",
        "# re-encrypt m to make sure we get the original c back\n",
        "c = fast_mod_exp(m, e, n)\n",
        "print(f'c: {c}')\n",
        "\n",
        "\n",
        "# turn m into letters\n",
        "letters = ''\n",
        "while(m>0):\n",
        "    r = m%100  # get last two digits\n",
        "    letters = chr(ord('A')+r-1) + letters\n",
        "    m = m//100 # remove last two digits\n",
        "\n",
        "print(letters)"
      ]
    }
  ],
  "metadata": {
    "colab": {
      "collapsed_sections": [
        "HCjgnJwTbbhN",
        "DUq_4SMmLZEZ",
        "g5X7JVlfLZEZ",
        "-3EwY25WLZEZ",
        "Wfm1qmF3LZEZ",
        "oawhtESaLZEZ",
        "Kfa2qJ-QLZEa",
        "TH0DuoYYLZEa",
        "Ja3BT90DLZEa"
      ],
      "name": "cse280-homework-10.ipynb",
      "provenance": [],
      "toc_visible": true
    },
    "interpreter": {
      "hash": "1977c1262a5a71e57f8e1e2a9337f4268800bf2d1a595fc1ecb322ccb8b2351d"
    },
    "kernelspec": {
      "display_name": "Python 3.9.0 ('.env': venv)",
      "language": "python",
      "name": "python3"
    },
    "language_info": {
      "codemirror_mode": {
        "name": "ipython",
        "version": 3
      },
      "file_extension": ".py",
      "mimetype": "text/x-python",
      "name": "python",
      "nbconvert_exporter": "python",
      "pygments_lexer": "ipython3",
      "version": "3.9.0"
    }
  },
  "nbformat": 4,
  "nbformat_minor": 0
}